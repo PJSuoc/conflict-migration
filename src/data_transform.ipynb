{
 "cells": [
  {
   "cell_type": "code",
   "execution_count": 2,
   "metadata": {},
   "outputs": [
    {
     "data": {
      "text/plain": [
       "DataTransformerRegistry.enable('vegafusion')"
      ]
     },
     "execution_count": 2,
     "metadata": {},
     "output_type": "execute_result"
    }
   ],
   "source": [
    "import json\n",
    "import pandas as pd\n",
    "import altair as alt\n",
    "import geopandas as gpd\n",
    "import re\n",
    "from data_cleaner import *\n",
    "alt.data_transformers.enable(\"vegafusion\")"
   ]
  },
  {
   "cell_type": "code",
   "execution_count": 3,
   "metadata": {},
   "outputs": [],
   "source": [
    "## This File, run in entirety, should generate the three data files needed for the project in site_data"
   ]
  },
  {
   "cell_type": "code",
   "execution_count": 4,
   "metadata": {},
   "outputs": [],
   "source": [
    "raw = pd.read_csv(\"../data/acled_2023.csv\")"
   ]
  },
  {
   "cell_type": "code",
   "execution_count": null,
   "metadata": {},
   "outputs": [],
   "source": [
    "# Reworking regions into a smaller list, fixing DRC\n",
    "\n",
    "raw['region'] = raw['region'].replace('South Asia', 'Asia')\n",
    "raw['region'] = raw['region'].replace('Southeast Asia', 'Asia')\n",
    "raw['region'] = raw['region'].replace('Caucasus and Central Asia', 'Asia')\n",
    "raw['region'] = raw['region'].replace('Southern Africa', 'Africa')\n",
    "raw['region'] = raw['region'].replace('Western Africa', 'Africa')\n",
    "raw['region'] = raw['region'].replace('Eastern Africa', 'Africa')\n",
    "raw['region'] = raw['region'].replace('Northern Africa', 'Africa')\n",
    "raw['region'] = raw['region'].replace('Middle Africa', 'Africa')\n",
    "raw['region'] = raw['region'].replace('Central America', 'Americas')\n",
    "raw['region'] = raw['region'].replace('Caribbean', 'Americas')\n",
    "raw['region'] = raw['region'].replace('North America', 'Americas')\n",
    "raw['region'] = raw['region'].replace('South America', 'Americas')\n",
    "raw['country'] = raw['country'].replace('Democratic Republic of Congo', 'D.R. Congo')"
   ]
  },
  {
   "cell_type": "code",
   "execution_count": null,
   "metadata": {},
   "outputs": [],
   "source": [
    "# Removing some sub-event categories that don't have violence attached to them\n",
    "acled = raw\n",
    "acled = acled[acled[\"event_type\"] != \"Protests\"]\n",
    "acled = acled[acled[\"sub_event_type\"] != \"Headquarters or base established\"]\n",
    "acled = acled[acled[\"sub_event_type\"] != \"Other\"]\n",
    "acled = acled[acled[\"sub_event_type\"] != \"Change to group/activity\"]\n",
    "acled = acled[acled[\"sub_event_type\"] != \"Agreement\"]\n",
    "acled = acled[acled[\"sub_event_type\"] != \"Non-violent transfer of territory\"]\n",
    "acled = acled[acled['year'] == 2023]\n",
    "good_cols = acled[['region','country','event_type']]"
   ]
  },
  {
   "cell_type": "code",
   "execution_count": null,
   "metadata": {},
   "outputs": [],
   "source": [
    "# Cutting data down to top 30 countries for readability\n",
    "big, small, all = small_big_split(good_cols)\n",
    "top30 = top_k_countries(all, 30)"
   ]
  },
  {
   "cell_type": "code",
   "execution_count": null,
   "metadata": {},
   "outputs": [],
   "source": [
    "# Reformatting the data for the bubble chart heirarchy needs\n",
    "\n",
    "counter = top30.value_counts()\n",
    "acled_array = []\n",
    "\n",
    "for id, value in counter.items():\n",
    "    row = {}\n",
    "    row[\"Country\"] = id[1]\n",
    "    row['Region'] = id[0]\n",
    "    row['event_type'] = id[2]\n",
    "    row['conflict_size'] = id[3]\n",
    "    row['violent_events'] = value\n",
    "    acled_array.append(row)\n",
    "\n",
    "acled_array"
   ]
  },
  {
   "cell_type": "code",
   "execution_count": 9,
   "metadata": {},
   "outputs": [],
   "source": [
    "mig = pd.read_csv(\"../data/migration_wb.csv\")\n",
    "mig[\"Country_Name\"] = mig[\"Country Name\"].astype(str)"
   ]
  },
  {
   "cell_type": "code",
   "execution_count": null,
   "metadata": {},
   "outputs": [],
   "source": [
    "# Calculating net migration numbers\n",
    "\n",
    "migra = mig[mig[\"Series Name\"] == \"Net migration\"]\n",
    "pop = mig[mig[\"Series Name\"] == \"Population, total\"]\n",
    "\n",
    "wb_data = migra.merge(pop, how='left', on='Country_Name')\n",
    "wb_data.head()\n",
    "\n",
    "wb_data[\"Country\"] = wb_data[\"Country Name_x\"]\n",
    "wb_data[\"net_migration\"] = wb_data[\"2023 [YR2023]_x\"]\n",
    "wb_data[\"population\"] = wb_data[\"2023 [YR2023]_y\"]\n",
    "\n",
    "wb_final = wb_data[['Country','population','net_migration']]\n",
    "\n",
    "\n",
    "wb_final['mg_per_1000'] = 1000 * wb_final['net_migration'] / wb_final['population']\n",
    "wb_final.head()"
   ]
  },
  {
   "cell_type": "code",
   "execution_count": 11,
   "metadata": {},
   "outputs": [],
   "source": [
    "counter_wb = wb_final.value_counts()\n",
    "wb_array = []\n",
    "\n",
    "for id, row in counter_wb.items():\n",
    "    row = {}\n",
    "    row[\"Country\"] = id[0]\n",
    "    row[\"pop\"] = id[1]\n",
    "    row[\"mig\"] = id[2]\n",
    "    row[\"mig_1000\"] = id[3]\n",
    "    wb_array.append(row)\n"
   ]
  },
  {
   "cell_type": "code",
   "execution_count": null,
   "metadata": {},
   "outputs": [],
   "source": [
    "#write bubble chart file\n",
    "with open(\"../site_data/acledArray.json\", \"w\") as outfile: \n",
    "    json.dump(acled_array, outfile)"
   ]
  },
  {
   "cell_type": "code",
   "execution_count": 13,
   "metadata": {},
   "outputs": [],
   "source": [
    "#Migration Chart file\n",
    "wb_final.to_csv('../site_data/wbFinal.csv', index=False)\n",
    "\n",
    "#Bar Chart File\n",
    "top30df = pd.DataFrame(acled_array)\n",
    "top30df.to_csv('../site_data/acled.csv', index=False)"
   ]
  },
  {
   "cell_type": "code",
   "execution_count": null,
   "metadata": {},
   "outputs": [
    {
     "data": {
      "text/html": [
       "<div>\n",
       "<style scoped>\n",
       "    .dataframe tbody tr th:only-of-type {\n",
       "        vertical-align: middle;\n",
       "    }\n",
       "\n",
       "    .dataframe tbody tr th {\n",
       "        vertical-align: top;\n",
       "    }\n",
       "\n",
       "    .dataframe thead th {\n",
       "        text-align: right;\n",
       "    }\n",
       "</style>\n",
       "<table border=\"1\" class=\"dataframe\">\n",
       "  <thead>\n",
       "    <tr style=\"text-align: right;\">\n",
       "      <th></th>\n",
       "      <th>Country</th>\n",
       "      <th>Region</th>\n",
       "      <th>event_type</th>\n",
       "      <th>conflict_size</th>\n",
       "      <th>violent_events</th>\n",
       "      <th>population</th>\n",
       "      <th>net_migration</th>\n",
       "      <th>mg_per_1000</th>\n",
       "    </tr>\n",
       "  </thead>\n",
       "  <tbody>\n",
       "    <tr>\n",
       "      <th>2</th>\n",
       "      <td>Syria</td>\n",
       "      <td>Middle East</td>\n",
       "      <td>Explosions/Remote violence</td>\n",
       "      <td>Rest of the World</td>\n",
       "      <td>5553</td>\n",
       "      <td>23227014.0</td>\n",
       "      <td>757103.0</td>\n",
       "      <td>32.595796</td>\n",
       "    </tr>\n",
       "    <tr>\n",
       "      <th>13</th>\n",
       "      <td>Syria</td>\n",
       "      <td>Middle East</td>\n",
       "      <td>Battles</td>\n",
       "      <td>Rest of the World</td>\n",
       "      <td>2618</td>\n",
       "      <td>23227014.0</td>\n",
       "      <td>757103.0</td>\n",
       "      <td>32.595796</td>\n",
       "    </tr>\n",
       "    <tr>\n",
       "      <th>17</th>\n",
       "      <td>Syria</td>\n",
       "      <td>Middle East</td>\n",
       "      <td>Violence against civilians</td>\n",
       "      <td>Rest of the World</td>\n",
       "      <td>1991</td>\n",
       "      <td>23227014.0</td>\n",
       "      <td>757103.0</td>\n",
       "      <td>32.595796</td>\n",
       "    </tr>\n",
       "    <tr>\n",
       "      <th>70</th>\n",
       "      <td>Syria</td>\n",
       "      <td>Middle East</td>\n",
       "      <td>Strategic developments</td>\n",
       "      <td>Rest of the World</td>\n",
       "      <td>415</td>\n",
       "      <td>23227014.0</td>\n",
       "      <td>757103.0</td>\n",
       "      <td>32.595796</td>\n",
       "    </tr>\n",
       "    <tr>\n",
       "      <th>98</th>\n",
       "      <td>Syria</td>\n",
       "      <td>Middle East</td>\n",
       "      <td>Riots</td>\n",
       "      <td>Rest of the World</td>\n",
       "      <td>159</td>\n",
       "      <td>23227014.0</td>\n",
       "      <td>757103.0</td>\n",
       "      <td>32.595796</td>\n",
       "    </tr>\n",
       "  </tbody>\n",
       "</table>\n",
       "</div>"
      ],
      "text/plain": [
       "   Country       Region                  event_type      conflict_size  \\\n",
       "2    Syria  Middle East  Explosions/Remote violence  Rest of the World   \n",
       "13   Syria  Middle East                     Battles  Rest of the World   \n",
       "17   Syria  Middle East  Violence against civilians  Rest of the World   \n",
       "70   Syria  Middle East      Strategic developments  Rest of the World   \n",
       "98   Syria  Middle East                       Riots  Rest of the World   \n",
       "\n",
       "    violent_events  population  net_migration  mg_per_1000  \n",
       "2             5553  23227014.0       757103.0    32.595796  \n",
       "13            2618  23227014.0       757103.0    32.595796  \n",
       "17            1991  23227014.0       757103.0    32.595796  \n",
       "70             415  23227014.0       757103.0    32.595796  \n",
       "98             159  23227014.0       757103.0    32.595796  "
      ]
     },
     "execution_count": 14,
     "metadata": {},
     "output_type": "execute_result"
    }
   ],
   "source": [
    "# Getting the average migration per 1000 ppl\n",
    "test = top30df.merge(wb_final, how='left')\n"
   ]
  },
  {
   "cell_type": "code",
   "execution_count": null,
   "metadata": {},
   "outputs": [
    {
     "data": {
      "text/plain": [
       "Index([   32.59579556803987, -0.39110021599920225,  0.02772355691793632,\n",
       "         -0.967908977839724,  -0.6412474243054395,  -0.1318549173972894,\n",
       "         -33.12165082472128,   -0.948464649643288, -0.20784050287798506,\n",
       "       -0.34028180511299533,  -1.6534958374344624, -0.26807309332185764,\n",
       "         -3.360860811661393, -0.16755509848696698,  -1.5588595547702413,\n",
       "         -0.868335325360869,  -1.7922478131349817, -0.14667111429210902,\n",
       "        -3.7276680027189837, -0.09483346882477156, -0.18148627312239474,\n",
       "        -1.7171167927050484,  -1.0751141271191926,    1.024834216487132,\n",
       "        -0.6902199548215886,    48.23562162162162,   0.9682444585525377,\n",
       "        -0.5175421508540496,  -2.7131465258615464,   0.9939969688820757],\n",
       "      dtype='float64', name='mg_per_1000')"
      ]
     },
     "execution_count": 15,
     "metadata": {},
     "output_type": "execute_result"
    }
   ],
   "source": [
    "meancheck = test['mg_per_1000'].value_counts()\n",
    "meancheck.index"
   ]
  },
  {
   "cell_type": "code",
   "execution_count": null,
   "metadata": {},
   "outputs": [
    {
     "name": "stdout",
     "output_type": "stream",
     "text": [
      "1.0565226747188805 -0.7105057091677938\n"
     ]
    }
   ],
   "source": [
    "x = [   32.59579556803987, -0.39110021599920225,   -0.967908977839724,\n",
    "       -0.20784050287798506,  0.02772355691793632,  -0.6412474243054395,\n",
    "        -0.1318549173972894,   -33.12165082472128, -0.34028180511299533,\n",
    "       -0.26807309332185764,  -1.6534958374344624,  -1.5588595547702413,\n",
    "         -3.360860811661393, -0.16755509848696698,  -1.7922478131349817,\n",
    "        -3.7276680027189837, -0.09483346882477156, -0.18148627312239474,\n",
    "        -1.7171167927050484,  -1.0751141271191926,    1.024834216487132,\n",
    "        -0.6902199548215886,    48.23562162162162,   0.9682444585525377,\n",
    "        -0.5175421508540496,  -2.7131465258615464,   0.9939969688820757]\n",
    "\n",
    "x2 = [   0, -0.39110021599920225,   -0.967908977839724,\n",
    "       -0.20784050287798506,  0.02772355691793632,  -0.6412474243054395,\n",
    "        -0.1318549173972894,   0, -0.34028180511299533,\n",
    "       -0.26807309332185764,  -1.6534958374344624,  -1.5588595547702413,\n",
    "         -3.360860811661393, -0.16755509848696698,  -1.7922478131349817,\n",
    "        -3.7276680027189837, -0.09483346882477156, -0.18148627312239474,\n",
    "        -1.7171167927050484,  -1.0751141271191926,    1.024834216487132,\n",
    "        -0.6902199548215886,    0,   0.9682444585525377,\n",
    "        -0.5175421508540496,  -2.7131465258615464,   0.9939969688820757]\n",
    "y = sum(x)/len(x)\n",
    "y2 = sum(x2)/len(x2)\n",
    "print(y, y2)\n",
    "## y2 used for the mean line as a hard-code."
   ]
  }
 ],
 "metadata": {
  "kernelspec": {
   "display_name": ".venv",
   "language": "python",
   "name": "python3"
  },
  "language_info": {
   "codemirror_mode": {
    "name": "ipython",
    "version": 3
   },
   "file_extension": ".py",
   "mimetype": "text/x-python",
   "name": "python",
   "nbconvert_exporter": "python",
   "pygments_lexer": "ipython3",
   "version": "3.12.8"
  }
 },
 "nbformat": 4,
 "nbformat_minor": 2
}
