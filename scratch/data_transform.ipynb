{
 "cells": [
  {
   "cell_type": "code",
   "execution_count": 2,
   "metadata": {},
   "outputs": [
    {
     "data": {
      "text/plain": [
       "DataTransformerRegistry.enable('vegafusion')"
      ]
     },
     "execution_count": 2,
     "metadata": {},
     "output_type": "execute_result"
    }
   ],
   "source": [
    "import json\n",
    "import pandas as pd\n",
    "import altair as alt\n",
    "import geopandas as gpd\n",
    "import re\n",
    "from data_cleaner import *\n",
    "alt.data_transformers.enable(\"vegafusion\")"
   ]
  },
  {
   "cell_type": "code",
   "execution_count": 3,
   "metadata": {},
   "outputs": [],
   "source": [
    "raw = pd.read_csv(\"datatest.csv\")"
   ]
  },
  {
   "cell_type": "code",
   "execution_count": 4,
   "metadata": {},
   "outputs": [],
   "source": [
    "regions = raw[\"Region\"].value_counts()\n",
    "countries = raw[\"Country\"].value_counts()\n",
    "event_types = raw[\"event_type\"].value_counts()\n",
    "sub_event_types = raw[\"sub_event_type\"].value_counts()"
   ]
  },
  {
   "cell_type": "code",
   "execution_count": 5,
   "metadata": {},
   "outputs": [
    {
     "ename": "TypeError",
     "evalue": "tuple indices must be integers or slices, not str",
     "output_type": "error",
     "traceback": [
      "\u001b[1;31m---------------------------------------------------------------------------\u001b[0m",
      "\u001b[1;31mTypeError\u001b[0m                                 Traceback (most recent call last)",
      "Cell \u001b[1;32mIn[5], line 9\u001b[0m\n\u001b[0;32m      6\u001b[0m violence_object[region][\u001b[38;5;124m\"\u001b[39m\u001b[38;5;124mviolent_events\u001b[39m\u001b[38;5;124m\"\u001b[39m] \u001b[38;5;241m=\u001b[39m country_subset\u001b[38;5;241m.\u001b[39mcount()\n\u001b[0;32m      8\u001b[0m \u001b[38;5;28;01mfor\u001b[39;00m row \u001b[38;5;129;01min\u001b[39;00m country_subset\u001b[38;5;241m.\u001b[39mitems():\n\u001b[1;32m----> 9\u001b[0m     country \u001b[38;5;241m=\u001b[39m \u001b[43mrow\u001b[49m\u001b[43m[\u001b[49m\u001b[38;5;124;43m\"\u001b[39;49m\u001b[38;5;124;43mCountry\u001b[39;49m\u001b[38;5;124;43m\"\u001b[39;49m\u001b[43m]\u001b[49m\n\u001b[0;32m     10\u001b[0m     just_country \u001b[38;5;241m=\u001b[39m raw[raw[\u001b[38;5;124m\"\u001b[39m\u001b[38;5;124mCountry\u001b[39m\u001b[38;5;124m\"\u001b[39m] \u001b[38;5;241m==\u001b[39m country] \n\u001b[0;32m     11\u001b[0m     violence_object[region][country] \u001b[38;5;241m=\u001b[39m {}\n",
      "\u001b[1;31mTypeError\u001b[0m: tuple indices must be integers or slices, not str"
     ]
    }
   ],
   "source": [
    "violence_object = {}\n",
    "\n",
    "for region, value in regions.items():\n",
    "    country_subset = raw[raw[\"Region\"] == region]\n",
    "    violence_object[region] = {}\n",
    "    violence_object[region][\"violent_events\"] = country_subset.count()\n",
    "    \n",
    "    for row in country_subset.items():\n",
    "        country = row[\"Country\"]\n",
    "        just_country = raw[raw[\"Country\"] == country] \n",
    "        violence_object[region][country] = {}\n",
    "        violence_object[region][country][\"violent_events\"] = just_country.count()\n",
    "    \n",
    "for region in violence_object:\n",
    "    violence_subset = '1'\n",
    "    \n"
   ]
  },
  {
   "cell_type": "code",
   "execution_count": 6,
   "metadata": {},
   "outputs": [],
   "source": [
    "violence_object = {}\n",
    "\n",
    "for region, value in regions.items():\n",
    "    country_subset = raw[raw[\"Region\"] == region]\n",
    "    violence_object[region] = {}\n",
    "    violence_object[region][\"name\"] = region\n",
    "    violence_object[region][\"violent_events\"] = value\n",
    "    region_countries = country_subset[\"Country\"].value_counts()\n",
    "\n",
    "    for country, value in region_countries.items():\n",
    "        violence_object[region][country] = {}\n",
    "        violence_object[region][country][\"name\"] = country\n",
    "        violence_object[region][country][\"violent_events\"] = value"
   ]
  },
  {
   "cell_type": "code",
   "execution_count": null,
   "metadata": {},
   "outputs": [],
   "source": [
    "violence_object"
   ]
  },
  {
   "cell_type": "code",
   "execution_count": null,
   "metadata": {},
   "outputs": [],
   "source": [
    "with open(\"samplebubble.json\", \"w\") as outfile: \n",
    "    json.dump(violence_object, outfile)"
   ]
  },
  {
   "cell_type": "code",
   "execution_count": 8,
   "metadata": {},
   "outputs": [],
   "source": [
    "#different data shape:\n",
    "raw2 = pd.read_csv(\"datatest.csv\")"
   ]
  },
  {
   "cell_type": "code",
   "execution_count": 10,
   "metadata": {},
   "outputs": [],
   "source": [
    "testing = raw2.value_counts()"
   ]
  },
  {
   "cell_type": "code",
   "execution_count": 17,
   "metadata": {},
   "outputs": [
    {
     "data": {
      "text/plain": [
       "np.int64(5)"
      ]
     },
     "execution_count": 17,
     "metadata": {},
     "output_type": "execute_result"
    }
   ],
   "source": [
    "testing.iloc[0]"
   ]
  },
  {
   "cell_type": "code",
   "execution_count": null,
   "metadata": {},
   "outputs": [],
   "source": [
    "violence_array = []\n",
    "\n",
    "for id, value in testing.items():\n",
    "    row = {}\n",
    "    row[\"Country\"] = id[0]\n",
    "    row['Region'] = id[1]\n",
    "    row['event_type'] = id[2]\n",
    "    row['sub_event_type'] = id[3]\n",
    "    row['violent_events'] = value\n",
    "    violence_array.append(row)\n",
    "\n",
    "violence_array"
   ]
  },
  {
   "cell_type": "code",
   "execution_count": 21,
   "metadata": {},
   "outputs": [],
   "source": [
    "with open(\"arraybubble.json\", \"w\") as outfile: \n",
    "    json.dump(violence_array, outfile)"
   ]
  },
  {
   "cell_type": "code",
   "execution_count": 28,
   "metadata": {},
   "outputs": [],
   "source": [
    "real = pd.read_csv(\"../data/acled_2023.csv\")"
   ]
  },
  {
   "cell_type": "code",
   "execution_count": null,
   "metadata": {},
   "outputs": [],
   "source": [
    "acled = real[real[\"event_type\"] != \"Protests\"]\n",
    "acled = acled[acled[\"sub_event_type\"] != \"Headquarters or base established\"]\n",
    "acled = acled[acled[\"sub_event_type\"] != \"Other\"]\n",
    "acled = acled[acled[\"sub_event_type\"] != \"Change to group/activity\"]\n",
    "acled = acled[acled[\"sub_event_type\"] != \"Agreement\"]\n",
    "acled = acled[acled[\"sub_event_type\"] != \"Non-violent transfer of territory\"]\n",
    "acled = acled[acled['year'] == 2023]\n",
    "good_cols = acled[['region','country','event_type']]\n",
    "\n",
    "counter = good_cols.value_counts()\n",
    "\n",
    "acled_array = []\n",
    "\n",
    "for id, value in counter.items():\n",
    "    row = {}\n",
    "    row[\"Country\"] = id[1]\n",
    "    row['Region'] = id[0]\n",
    "    row['event_type'] = id[2]\n",
    "    row['violent_events'] = value\n",
    "    acled_array.append(row)\n",
    "\n",
    "acled_array\n",
    "\n"
   ]
  },
  {
   "cell_type": "code",
   "execution_count": 34,
   "metadata": {},
   "outputs": [],
   "source": [
    "with open(\"acledArray.json\", \"w\") as outfile: \n",
    "    json.dump(acled_array, outfile)"
   ]
  }
 ],
 "metadata": {
  "kernelspec": {
   "display_name": ".venv",
   "language": "python",
   "name": "python3"
  },
  "language_info": {
   "codemirror_mode": {
    "name": "ipython",
    "version": 3
   },
   "file_extension": ".py",
   "mimetype": "text/x-python",
   "name": "python",
   "nbconvert_exporter": "python",
   "pygments_lexer": "ipython3",
   "version": "3.12.7"
  }
 },
 "nbformat": 4,
 "nbformat_minor": 2
}
