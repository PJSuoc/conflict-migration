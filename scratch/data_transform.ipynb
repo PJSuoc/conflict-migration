{
 "cells": [
  {
   "cell_type": "code",
   "execution_count": 2,
   "metadata": {},
   "outputs": [
    {
     "data": {
      "text/plain": [
       "DataTransformerRegistry.enable('vegafusion')"
      ]
     },
     "execution_count": 2,
     "metadata": {},
     "output_type": "execute_result"
    }
   ],
   "source": [
    "import json\n",
    "import pandas as pd\n",
    "import altair as alt\n",
    "import geopandas as gpd\n",
    "import re\n",
    "from data_cleaner import *\n",
    "alt.data_transformers.enable(\"vegafusion\")"
   ]
  },
  {
   "cell_type": "code",
   "execution_count": 97,
   "metadata": {},
   "outputs": [],
   "source": [
    "raw = pd.read_csv(\"acled.csv\")"
   ]
  },
  {
   "cell_type": "code",
   "execution_count": 98,
   "metadata": {},
   "outputs": [],
   "source": [
    "raw['Region'] = raw['Region'].replace('South Asia', 'Asia')\n",
    "raw['Region'] = raw['Region'].replace('Southeast Asia', 'Asia')\n",
    "raw['Region'] = raw['Region'].replace('Caucasus and Central Asia', 'Asia')\n",
    "raw['Region'] = raw['Region'].replace('Southern Africa', 'Africa')\n",
    "raw['Region'] = raw['Region'].replace('Western Africa', 'Africa')\n",
    "raw['Region'] = raw['Region'].replace('Eastern Africa', 'Africa')\n",
    "raw['Region'] = raw['Region'].replace('Northern Africa', 'Africa')\n",
    "raw['Region'] = raw['Region'].replace('Middle Africa', 'Africa')\n",
    "raw['Region'] = raw['Region'].replace('Central America', 'Americas')\n",
    "raw['Region'] = raw['Region'].replace('Caribbean', 'Americas')\n",
    "raw['Region'] = raw['Region'].replace('North America', 'Americas')\n",
    "raw['Region'] = raw['Region'].replace('South America', 'Americas')\n",
    "raw['Country'] = raw['Country'].replace('Democratic Republic of Congo', 'D.R. Congo')"
   ]
  },
  {
   "cell_type": "code",
   "execution_count": 99,
   "metadata": {},
   "outputs": [
    {
     "data": {
      "text/plain": [
       "Region\n",
       "Africa         49\n",
       "Middle East    35\n",
       "Asia           25\n",
       "Americas       23\n",
       "Europe         12\n",
       "Name: count, dtype: int64"
      ]
     },
     "execution_count": 99,
     "metadata": {},
     "output_type": "execute_result"
    }
   ],
   "source": [
    "regions = raw[\"Region\"].value_counts()\n",
    "regions"
   ]
  },
  {
   "cell_type": "code",
   "execution_count": 101,
   "metadata": {},
   "outputs": [],
   "source": [
    "regions = raw[\"Region\"].value_counts()\n",
    "countries = raw[\"Country\"].value_counts()\n",
    "event_types = raw[\"event_type\"].value_counts()\n",
    "#sub_event_types = raw[\"sub_event_type\"].value_counts()"
   ]
  },
  {
   "cell_type": "code",
   "execution_count": 103,
   "metadata": {},
   "outputs": [],
   "source": [
    "violence_object = {}\n",
    "\n",
    "for region, value in regions.items():\n",
    "    country_subset = raw[raw[\"Region\"] == region]\n",
    "    violence_object[region] = {}\n",
    "    violence_object[region][\"name\"] = region\n",
    "    violence_object[region][\"violent_events\"] = value\n",
    "    region_countries = country_subset[\"Country\"].value_counts()\n",
    "\n",
    "    for country, value in region_countries.items():\n",
    "        violence_object[region][country] = {}\n",
    "        violence_object[region][country][\"name\"] = country\n",
    "        violence_object[region][country][\"violent_events\"] = value"
   ]
  },
  {
   "cell_type": "code",
   "execution_count": null,
   "metadata": {},
   "outputs": [],
   "source": [
    "violence_object"
   ]
  },
  {
   "cell_type": "code",
   "execution_count": null,
   "metadata": {},
   "outputs": [],
   "source": [
    "with open(\"samplebubble.json\", \"w\") as outfile: \n",
    "    json.dump(violence_object, outfile)"
   ]
  },
  {
   "cell_type": "code",
   "execution_count": 8,
   "metadata": {},
   "outputs": [],
   "source": [
    "#different data shape:\n",
    "raw2 = pd.read_csv(\"datatest.csv\")"
   ]
  },
  {
   "cell_type": "code",
   "execution_count": 105,
   "metadata": {},
   "outputs": [],
   "source": [
    "testing = raw.value_counts()"
   ]
  },
  {
   "cell_type": "code",
   "execution_count": null,
   "metadata": {},
   "outputs": [],
   "source": [
    "violence_array = []\n",
    "\n",
    "for id, value in testing.items():\n",
    "    row = {}\n",
    "    row[\"Country\"] = id[0]\n",
    "    row['Region'] = id[1]\n",
    "    row['event_type'] = id[2]\n",
    "    row['sub_event_type'] = id[3]\n",
    "    row['violent_events'] = value\n",
    "    violence_array.append(row)\n",
    "\n",
    "violence_array"
   ]
  },
  {
   "cell_type": "code",
   "execution_count": 21,
   "metadata": {},
   "outputs": [],
   "source": [
    "with open(\"arraybubble.json\", \"w\") as outfile: \n",
    "    json.dump(violence_array, outfile)"
   ]
  },
  {
   "cell_type": "code",
   "execution_count": 127,
   "metadata": {},
   "outputs": [],
   "source": [
    "raw = pd.read_csv(\"../data/acled_2023.csv\")"
   ]
  },
  {
   "cell_type": "code",
   "execution_count": 129,
   "metadata": {},
   "outputs": [],
   "source": [
    "raw['region'] = raw['region'].replace('South Asia', 'Asia')\n",
    "raw['region'] = raw['region'].replace('Southeast Asia', 'Asia')\n",
    "raw['region'] = raw['region'].replace('Caucasus and Central Asia', 'Asia')\n",
    "raw['region'] = raw['region'].replace('Southern Africa', 'Africa')\n",
    "raw['region'] = raw['region'].replace('Western Africa', 'Africa')\n",
    "raw['region'] = raw['region'].replace('Eastern Africa', 'Africa')\n",
    "raw['region'] = raw['region'].replace('Northern Africa', 'Africa')\n",
    "raw['region'] = raw['region'].replace('Middle Africa', 'Africa')\n",
    "raw['region'] = raw['region'].replace('Central America', 'Americas')\n",
    "raw['region'] = raw['region'].replace('Caribbean', 'Americas')\n",
    "raw['region'] = raw['region'].replace('North America', 'Americas')\n",
    "raw['region'] = raw['region'].replace('South America', 'Americas')\n",
    "raw['country'] = raw['country'].replace('Democratic Republic of Congo', 'D.R. Congo')"
   ]
  },
  {
   "cell_type": "code",
   "execution_count": 130,
   "metadata": {},
   "outputs": [],
   "source": [
    "acled = raw\n",
    "acled = acled[acled[\"event_type\"] != \"Protests\"]\n",
    "acled = acled[acled[\"sub_event_type\"] != \"Headquarters or base established\"]\n",
    "acled = acled[acled[\"sub_event_type\"] != \"Other\"]\n",
    "acled = acled[acled[\"sub_event_type\"] != \"Change to group/activity\"]\n",
    "acled = acled[acled[\"sub_event_type\"] != \"Agreement\"]\n",
    "acled = acled[acled[\"sub_event_type\"] != \"Non-violent transfer of territory\"]\n",
    "acled = acled[acled['year'] == 2023]\n",
    "good_cols = acled[['region','country','event_type']]"
   ]
  },
  {
   "cell_type": "code",
   "execution_count": 132,
   "metadata": {},
   "outputs": [],
   "source": [
    "big, small, all = small_big_split(good_cols)\n",
    "\n",
    "top30 = top_k_countries(all, 30)"
   ]
  },
  {
   "cell_type": "code",
   "execution_count": null,
   "metadata": {},
   "outputs": [],
   "source": [
    "counter = top30.value_counts()\n",
    "\n",
    "acled_array = []\n",
    "\n",
    "for id, value in counter.items():\n",
    "    row = {}\n",
    "    row[\"Country\"] = id[1]\n",
    "    row['Region'] = id[0]\n",
    "    row['event_type'] = id[2]\n",
    "    row['conflict_size'] = id[3]\n",
    "    row['violent_events'] = value\n",
    "    acled_array.append(row)\n",
    "\n",
    "acled_array"
   ]
  },
  {
   "cell_type": "code",
   "execution_count": 118,
   "metadata": {},
   "outputs": [],
   "source": [
    "mig = pd.read_csv(\"../data/migration_wb.csv\")\n",
    "mig[\"Country_Name\"] = mig[\"Country Name\"].astype(str)"
   ]
  },
  {
   "cell_type": "code",
   "execution_count": null,
   "metadata": {},
   "outputs": [],
   "source": [
    "migra = mig[mig[\"Series Name\"] == \"Net migration\"]\n",
    "pop = mig[mig[\"Series Name\"] == \"Population, total\"]\n",
    "\n",
    "wb_data = migra.merge(pop, how='left', on='Country_Name')\n",
    "wb_data.head()\n",
    "\n",
    "wb_data[\"Country\"] = wb_data[\"Country Name_x\"]\n",
    "wb_data[\"net_migration\"] = wb_data[\"2023 [YR2023]_x\"]\n",
    "wb_data[\"population\"] = wb_data[\"2023 [YR2023]_y\"]\n",
    "\n",
    "wb_final = wb_data[['Country','population','net_migration']]\n",
    "\n",
    "\n",
    "wb_final['mg_per_1000'] = 1000 * wb_final['net_migration'] / wb_final['population']\n",
    "wb_final.head()"
   ]
  },
  {
   "cell_type": "code",
   "execution_count": 120,
   "metadata": {},
   "outputs": [],
   "source": [
    "counter_wb = wb_final.value_counts()\n",
    "wb_array = []\n",
    "\n",
    "for id, row in counter_wb.items():\n",
    "    row = {}\n",
    "    row[\"Country\"] = id[0]\n",
    "    row[\"pop\"] = id[1]\n",
    "    row[\"mig\"] = id[2]\n",
    "    row[\"mig_1000\"] = id[3]\n",
    "    wb_array.append(row)\n"
   ]
  },
  {
   "cell_type": "code",
   "execution_count": 134,
   "metadata": {},
   "outputs": [],
   "source": [
    "#bubble chart file\n",
    "with open(\"acledArray.json\", \"w\") as outfile: \n",
    "    json.dump(acled_array, outfile)"
   ]
  },
  {
   "cell_type": "code",
   "execution_count": 135,
   "metadata": {},
   "outputs": [],
   "source": [
    "#Migration Chart file\n",
    "wb_final.to_csv('wbFinal.csv', index=False)\n",
    "\n",
    "#Bar Chart File\n",
    "top30df = pd.DataFrame(acled_array)\n",
    "top30df.to_csv('acled.csv', index=False)"
   ]
  },
  {
   "cell_type": "code",
   "execution_count": null,
   "metadata": {},
   "outputs": [],
   "source": [
    "# Getting the average migration per 1000 ppl\n",
    "test = top30df.merge(wb_final, how='left')\n",
    "eye = test[test['mg_per_1000'] > 10]\n",
    "eye\n",
    "\n",
    "yo = test[test['Country'] == 'Syria']\n",
    "yo"
   ]
  },
  {
   "cell_type": "code",
   "execution_count": 84,
   "metadata": {},
   "outputs": [
    {
     "data": {
      "text/plain": [
       "Index([   32.59579556803987, -0.39110021599920225,   -0.967908977839724,\n",
       "       -0.20784050287798506,  0.02772355691793632,  -0.6412474243054395,\n",
       "        -0.1318549173972894,   -33.12165082472128, -0.34028180511299533,\n",
       "       -0.26807309332185764,  -1.6534958374344624,  -1.5588595547702413,\n",
       "         -3.360860811661393, -0.16755509848696698,  -1.7922478131349817,\n",
       "        -3.7276680027189837, -0.09483346882477156, -0.18148627312239474,\n",
       "        -1.7171167927050484,  -1.0751141271191926,    1.024834216487132,\n",
       "        -0.6902199548215886,    48.23562162162162,   0.9682444585525377,\n",
       "        -0.5175421508540496,  -2.7131465258615464,   0.9939969688820757],\n",
       "      dtype='float64', name='mg_per_1000')"
      ]
     },
     "execution_count": 84,
     "metadata": {},
     "output_type": "execute_result"
    }
   ],
   "source": [
    "yup = test['mg_per_1000'].value_counts()\n",
    "yup.index"
   ]
  },
  {
   "cell_type": "code",
   "execution_count": 85,
   "metadata": {},
   "outputs": [
    {
     "name": "stdout",
     "output_type": "stream",
     "text": [
      "1.0565226747188805 -0.7105057091677938\n"
     ]
    }
   ],
   "source": [
    "x = [   32.59579556803987, -0.39110021599920225,   -0.967908977839724,\n",
    "       -0.20784050287798506,  0.02772355691793632,  -0.6412474243054395,\n",
    "        -0.1318549173972894,   -33.12165082472128, -0.34028180511299533,\n",
    "       -0.26807309332185764,  -1.6534958374344624,  -1.5588595547702413,\n",
    "         -3.360860811661393, -0.16755509848696698,  -1.7922478131349817,\n",
    "        -3.7276680027189837, -0.09483346882477156, -0.18148627312239474,\n",
    "        -1.7171167927050484,  -1.0751141271191926,    1.024834216487132,\n",
    "        -0.6902199548215886,    48.23562162162162,   0.9682444585525377,\n",
    "        -0.5175421508540496,  -2.7131465258615464,   0.9939969688820757]\n",
    "\n",
    "x2 = [   0, -0.39110021599920225,   -0.967908977839724,\n",
    "       -0.20784050287798506,  0.02772355691793632,  -0.6412474243054395,\n",
    "        -0.1318549173972894,   0, -0.34028180511299533,\n",
    "       -0.26807309332185764,  -1.6534958374344624,  -1.5588595547702413,\n",
    "         -3.360860811661393, -0.16755509848696698,  -1.7922478131349817,\n",
    "        -3.7276680027189837, -0.09483346882477156, -0.18148627312239474,\n",
    "        -1.7171167927050484,  -1.0751141271191926,    1.024834216487132,\n",
    "        -0.6902199548215886,    0,   0.9682444585525377,\n",
    "        -0.5175421508540496,  -2.7131465258615464,   0.9939969688820757]\n",
    "y = sum(x)/len(x)\n",
    "y2 = sum(x2)/len(x2)\n",
    "print(y, y2)"
   ]
  }
 ],
 "metadata": {
  "kernelspec": {
   "display_name": ".venv",
   "language": "python",
   "name": "python3"
  },
  "language_info": {
   "codemirror_mode": {
    "name": "ipython",
    "version": 3
   },
   "file_extension": ".py",
   "mimetype": "text/x-python",
   "name": "python",
   "nbconvert_exporter": "python",
   "pygments_lexer": "ipython3",
   "version": "3.12.7"
  }
 },
 "nbformat": 4,
 "nbformat_minor": 2
}
